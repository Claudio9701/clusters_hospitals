{
 "cells": [
  {
   "cell_type": "code",
   "execution_count": 1,
   "metadata": {},
   "outputs": [],
   "source": [
    "import pandas as pd\n",
    "from tqdm import tqdm_notebook"
   ]
  },
  {
   "cell_type": "code",
   "execution_count": 2,
   "metadata": {},
   "outputs": [],
   "source": [
    "essalud = pd.ExcelFile('data/input/Essalud en Cifras - Definitivo Diciembre 2016.xls')"
   ]
  },
  {
   "cell_type": "code",
   "execution_count": 3,
   "metadata": {},
   "outputs": [],
   "source": [
    "sheet_names = essalud.sheet_names[1:10]"
   ]
  },
  {
   "cell_type": "code",
   "execution_count": 4,
   "metadata": {},
   "outputs": [],
   "source": [
    "consulta_ext = ['CONSULTANTES ASEGURADOS','CONSULTANTES DEL SERVICIO','CONSULTANTES NUEVOS',\n",
    "                'CONSULTAS CAI','CONSULTORIO FUNCIONAL','CONSULTORIOS FISICOS',\n",
    "                'HORAS MEDICAS EFECTIVAS','HORAS MEDICAS PROGRAMADAS','MEDICOS',\n",
    "                'TOTAL CONSULTANTES','TOTAL CONSULTAS']\n",
    "\n",
    "hospitalizacion = ['CAMAS HOSPITALARIAS','DEFUNCIONES ANTES 48 HORAS',\n",
    "                   'DEFUNCIONES DESPUES 48 HORAS','DIAS CAMA DISPONIBLES','EGRESOS',\n",
    "                   'ESTANCIA','PACIENTES DIA','REINGRESOS','PACIENTE DIA UNIDAD CORONARIA']\n",
    "\n",
    "centr_quirurgico = ['CIRUGIA MAYOR ALTA COMPLEJIDAD','CIRUGIA MAYOR BAJA COMPLEJIDAD',\n",
    "                    'CIRUGIA MAYOR MEDIANA COMPLEJIDAD','CIRUGIA MENOR ALTO REQUERIMIENTO',\n",
    "                    'CIRUGIA MENOR BAJO REQUERIMIENTO',\n",
    "                    'HORAS PROGRAMADAS INTERVENCION QUIRURGIC','HORAS USO DE SALA',\n",
    "                    'INTERVENCION QUIRURGICA PROGRAMADAS',\n",
    "                    'INTERVENCIONES QUIRURGICAS SUSPENDIDAS','SALAS QUIRURGICAS FUNCIONALES']\n",
    "\n",
    "centr_obstetrico = ['CESAREAS','NACIDOS VIVOS','NACIMIENTOS','PARTOS CON COMPLICACION',\n",
    "                    'PARTOS SIN COMPLICACION','PACIENTE DIA - PARTOS COMPLICADOS',\n",
    "                    'PACIENTE DIA - PARTOS SIN COMPLICACIËN', 'N░ SALAS DE PARTOS']\n",
    "\n",
    "emergencia = ['ATENCIONES DE EMERGENCIA I','ATENCIONES DE EMERGENCIA II','ATENCIONES DE EMERGENCIA III',\n",
    "              'ATENCIONES DE EMERGENCIA IV','EGRESO PACIENTE <=24 HORAS','EGRESO PACIENTE > 24 HORAS']\n",
    "\n",
    "odontologia = ['CONSULTANTES ODONTOLOGICOS','CONSULTORIOS FISICOS ODONTOLOGIA',\n",
    "               'CONSULTORIOS FUNCIONALES ODONTOLOGIA','HORAS ODONTOLOGICAS EFECTIVAS',\n",
    "               'HORAS ODONTOLOGICAS PROGRAMADAS','ODONTOLOGOS','SESIONES ODONTOLOGICAS',\n",
    "               'TRABAJOS ODONTOLOGICOS']\n",
    "\n",
    "act_interm = ['ANALISIS LABORATORIO CE','EXAMENES DE LABORATORIO','EXAMENES RADIOLOGICOS',\n",
    "              'EXAMENES RADIOLOGICOS CE','PLACAS RADIOLOGICAS','PLACAS RADIOLOGICAS CE',\n",
    "              'RECETAS DESPACHADAS','RECETAS DESPACHADAS CE']\n",
    "\n",
    "at_primero = ['MUESTRAS PROCESADAS X PAP CERVICO VAGINA','PRIMERA CONSULTA EXTERNA M. PREVENTIVA',\n",
    "              'CRED ADOLESCENTES','MAMOGRAFIAS PREVENTIVAS 50 A 74 (RESULTA','CRED NIÐOS',\n",
    "              'MENORES 1 AÐO TERCERA DOSIS PENTAVALENTE']\n",
    "\n",
    "at_sec = ['ACTIVIDADES EDUCACION GRUPAL TS','ATENCIONES PSICOLOGICAS','CONTROL DE ENFERMERIA',\n",
    "          'CONTROL DE NUTRICION','CONTROL DE OBSTETRICIA','CONTROL DE TRABAJO SOCIAL',\n",
    "          'EDUCACION GRUPAL DE ENFERMERIA','EDUCACION GRUPAL DE NUTRICION',\n",
    "          'EDUCACION GRUPAL DE OBSTETRICIA','PSICOPROFILAXIS DE NUTRICION',\n",
    "          'PSICOPROFILAXIS DE OBSTETRICIA','PSICOPROFILAXIS ENFERMERIA',\n",
    "          'VISITAS DOMICILIARIAS','VISITAS DOMICILIARIAS DE NUTRICION',\n",
    "          'VISITAS DOMICILIARIAS DE OBSTETRICIA','VISITAS DOMICILIARIAS TS',\n",
    "          'PERSONAL DE ENFERMERIA','PERSONAL DE OBSTETRICIA','PSICOPROFILAXIS DE PSICOLOGIA',\n",
    "          'VISITAS DOMICILIARIAS DE PSICOLOGIA','PSICOPROFILAXIS TS']\n",
    "\n",
    "variables_lists = [consulta_ext, hospitalizacion, centr_quirurgico, centr_obstetrico,\n",
    "                   emergencia, odontologia, act_interm, at_primero, at_sec]\n",
    "\n",
    "red_asist = ['ALMENARA','AMAZONAS','ANCASH','APURIMAC','AREQUIPA','AYACUCHO','CAJAMARCA',\n",
    "             'CENTRO NACIONAL SALUD RENAL','CUSCO','HUANCAVELICA','HUANUCO','ICA','INCOR',\n",
    "             'JULIACA','JUNIN','LA LIBERTAD','LAMBAYEQUE','LORETO','MADRE DE DIOS',\n",
    "             'MOQUEGUA','MOYOBAMBA','PASCO','PIURA','PUNO','REBAGLIATI','SABOGAL',\n",
    "             'TACNA','TARAPOTO','TUMBES','UCAYALI','HUARAZ']\n"
   ]
  },
  {
   "cell_type": "code",
   "execution_count": 5,
   "metadata": {},
   "outputs": [],
   "source": [
    "n_vars = 0\n",
    "for list_ in variables_lists:\n",
    "    n_vars += len(list_)"
   ]
  },
  {
   "cell_type": "code",
   "execution_count": 6,
   "metadata": {},
   "outputs": [
    {
     "data": {
      "text/plain": [
       "87"
      ]
     },
     "execution_count": 6,
     "metadata": {},
     "output_type": "execute_result"
    }
   ],
   "source": [
    "n_vars"
   ]
  },
  {
   "cell_type": "code",
   "execution_count": 9,
   "metadata": {},
   "outputs": [
    {
     "name": "stdout",
     "output_type": "stream",
     "text": [
      "Sheet: CONSULTA EXTERNA\n"
     ]
    },
    {
     "data": {
      "application/vnd.jupyter.widget-view+json": {
       "model_id": "893733292ea74f3895212cca832c7174",
       "version_major": 2,
       "version_minor": 0
      },
      "text/plain": [
       "HBox(children=(IntProgress(value=0, max=11), HTML(value='')))"
      ]
     },
     "metadata": {},
     "output_type": "display_data"
    },
    {
     "name": "stdout",
     "output_type": "stream",
     "text": [
      "\n",
      "Sheet: HOSPITALIZACION\n"
     ]
    },
    {
     "data": {
      "application/vnd.jupyter.widget-view+json": {
       "model_id": "b1394a10cbd442189675ba6d9b52e9e4",
       "version_major": 2,
       "version_minor": 0
      },
      "text/plain": [
       "HBox(children=(IntProgress(value=0, max=9), HTML(value='')))"
      ]
     },
     "metadata": {},
     "output_type": "display_data"
    },
    {
     "name": "stdout",
     "output_type": "stream",
     "text": [
      "\n",
      "Sheet: CENTRO QUIRURGICO\n"
     ]
    },
    {
     "data": {
      "application/vnd.jupyter.widget-view+json": {
       "model_id": "dd76c839c6de4b948686df5264b84af9",
       "version_major": 2,
       "version_minor": 0
      },
      "text/plain": [
       "HBox(children=(IntProgress(value=0, max=10), HTML(value='')))"
      ]
     },
     "metadata": {},
     "output_type": "display_data"
    },
    {
     "name": "stdout",
     "output_type": "stream",
     "text": [
      "\n",
      "Sheet: CENTRO OBSTETRICO\n"
     ]
    },
    {
     "data": {
      "application/vnd.jupyter.widget-view+json": {
       "model_id": "382eded7eaac4e6293ac418d5739e927",
       "version_major": 2,
       "version_minor": 0
      },
      "text/plain": [
       "HBox(children=(IntProgress(value=0, max=8), HTML(value='')))"
      ]
     },
     "metadata": {},
     "output_type": "display_data"
    },
    {
     "name": "stdout",
     "output_type": "stream",
     "text": [
      "\n",
      "Sheet: EMERGENCIA\n"
     ]
    },
    {
     "data": {
      "application/vnd.jupyter.widget-view+json": {
       "model_id": "23839adfc5264679ab137d258bc25371",
       "version_major": 2,
       "version_minor": 0
      },
      "text/plain": [
       "HBox(children=(IntProgress(value=0, max=6), HTML(value='')))"
      ]
     },
     "metadata": {},
     "output_type": "display_data"
    },
    {
     "name": "stdout",
     "output_type": "stream",
     "text": [
      "\n",
      "Sheet: ODONTOLOGIA\n"
     ]
    },
    {
     "data": {
      "application/vnd.jupyter.widget-view+json": {
       "model_id": "f7e35dc6b0714e9ca2ad8974f400c6ed",
       "version_major": 2,
       "version_minor": 0
      },
      "text/plain": [
       "HBox(children=(IntProgress(value=0, max=8), HTML(value='')))"
      ]
     },
     "metadata": {},
     "output_type": "display_data"
    },
    {
     "name": "stdout",
     "output_type": "stream",
     "text": [
      "\n",
      "Sheet: ACTIVIDADES INTERMEDIAS\n"
     ]
    },
    {
     "data": {
      "application/vnd.jupyter.widget-view+json": {
       "model_id": "854352c8cf2f418580eda949dfdad710",
       "version_major": 2,
       "version_minor": 0
      },
      "text/plain": [
       "HBox(children=(IntProgress(value=0, max=8), HTML(value='')))"
      ]
     },
     "metadata": {},
     "output_type": "display_data"
    },
    {
     "name": "stdout",
     "output_type": "stream",
     "text": [
      "\n",
      "Sheet: ATENCION PRIMARIA\n"
     ]
    },
    {
     "data": {
      "application/vnd.jupyter.widget-view+json": {
       "model_id": "6555536aadfe471fbe40037c2c0d504d",
       "version_major": 2,
       "version_minor": 0
      },
      "text/plain": [
       "HBox(children=(IntProgress(value=0, max=6), HTML(value='')))"
      ]
     },
     "metadata": {},
     "output_type": "display_data"
    },
    {
     "name": "stdout",
     "output_type": "stream",
     "text": [
      "\n",
      "Sheet: ATENCION NOMEDICA\n"
     ]
    },
    {
     "data": {
      "application/vnd.jupyter.widget-view+json": {
       "model_id": "7a4ac1f414c84f489894c5f35c251152",
       "version_major": 2,
       "version_minor": 0
      },
      "text/plain": [
       "HBox(children=(IntProgress(value=0, max=21), HTML(value='')))"
      ]
     },
     "metadata": {},
     "output_type": "display_data"
    },
    {
     "name": "stdout",
     "output_type": "stream",
     "text": [
      "\n"
     ]
    }
   ],
   "source": [
    "year = '2016'\n",
    "\n",
    "dfs = []\n",
    "\n",
    "for i, sheet_name in enumerate(sheet_names):\n",
    "    df = essalud.parse(sheet_name=sheet_name, skiprows=9)\n",
    "    df = df.iloc[:,1:]\n",
    "    print('Sheet: {}'.format(sheet_name))\n",
    "    for j in tqdm_notebook(range(len(variables_lists[i])), total=len(variables_lists[i])):\n",
    "    \n",
    "        if j < len(variables_lists[i])-1:\n",
    "            init_ix = df[df['VARIABLE / RED ASISTENCIAL / CENTRO ASISTENCIAL'] == variables_lists[i][j]].index.values[0] + 1\n",
    "            final_ix = df[df['VARIABLE / RED ASISTENCIAL / CENTRO ASISTENCIAL'] == variables_lists[i][j+1]].index.values[0] - 1\n",
    "            df_var1 = df.loc[init_ix:final_ix,:]\n",
    "        else:\n",
    "            init_ix = df[df['VARIABLE / RED ASISTENCIAL / CENTRO ASISTENCIAL'] == variables_lists[i][j]].index.values[0] + 1\n",
    "            df_var1 = df.loc[init_ix:init_ix+437,:]\n",
    "            \n",
    "        #print(final_ix -init_ix)\n",
    "\n",
    "        red_asist_filter = [df_var1['VARIABLE / RED ASISTENCIAL / CENTRO ASISTENCIAL'] != red_asist_val for red_asist_val in red_asist]\n",
    "        \n",
    "        # Generate Boleean Series to filter RED_ASIST VARS\n",
    "        for k in range(1, len(red_asist_filter)):\n",
    "            if k == 1:\n",
    "                temp = red_asist_filter[k] & red_asist_filter[k-1]\n",
    "            else:\n",
    "                temp = red_asist_filter[k] & temp\n",
    "\n",
    "        not_redasist = temp\n",
    "                      \n",
    "        df_var1 = df_var1[not_redasist]\n",
    "        df_var1 = df_var1.melt(id_vars=df_var1.columns[0], value_vars=df_var1.columns[1:])\n",
    "        df_var1 = df_var1.rename(index=str, \n",
    "                                 columns={\"VARIABLE / RED ASISTENCIAL / CENTRO ASISTENCIAL\": \"centro_asist\",\n",
    "                                          \"variable\": \"month\",\n",
    "                                          \"value\": variables_lists[i][j]})\n",
    "        df_var1['month'] = df_var1['month'].replace(to_replace=df_var1['month'].unique(),\n",
    "                                                    value=['TOTAL','01','02','03','04','05','06','07','08','09','10', '11', '12'])\n",
    "        df_var1['centro_asist'] = df_var1['centro_asist'].str.extract(pat='([A-Z .]+)')\n",
    "        df_var1.index = df_var1['centro_asist'] + '_' + 'per' + '_' + year + '-' + df_var1['month']\n",
    "        df_var1.drop(labels=['centro_asist','month'], axis=1, inplace=True)\n",
    "        df_var1.dropna(inplace=True)\n",
    "        df_var1.sort_index(inplace=True)\n",
    "        \n",
    "        dfs.append(df_var1.T)\n"
   ]
  },
  {
   "cell_type": "code",
   "execution_count": 10,
   "metadata": {
    "scrolled": true
   },
   "outputs": [],
   "source": [
    "final_df = dfs[0]\n",
    "\n",
    "for i in range(1,len(dfs)):\n",
    "    final_df = final_df.append(dfs[i])"
   ]
  },
  {
   "cell_type": "code",
   "execution_count": 11,
   "metadata": {},
   "outputs": [],
   "source": [
    "final_df = final_df.T"
   ]
  },
  {
   "cell_type": "code",
   "execution_count": 14,
   "metadata": {},
   "outputs": [
    {
     "data": {
      "text/html": [
       "<div>\n",
       "<style scoped>\n",
       "    .dataframe tbody tr th:only-of-type {\n",
       "        vertical-align: middle;\n",
       "    }\n",
       "\n",
       "    .dataframe tbody tr th {\n",
       "        vertical-align: top;\n",
       "    }\n",
       "\n",
       "    .dataframe thead th {\n",
       "        text-align: right;\n",
       "    }\n",
       "</style>\n",
       "<table border=\"1\" class=\"dataframe\">\n",
       "  <thead>\n",
       "    <tr style=\"text-align: right;\">\n",
       "      <th></th>\n",
       "      <th>CONSULTANTES ASEGURADOS</th>\n",
       "      <th>CONSULTANTES DEL SERVICIO</th>\n",
       "      <th>CONSULTANTES NUEVOS</th>\n",
       "      <th>CONSULTAS CAI</th>\n",
       "      <th>CONSULTORIO FUNCIONAL</th>\n",
       "      <th>CONSULTORIOS FISICOS</th>\n",
       "      <th>HORAS MEDICAS EFECTIVAS</th>\n",
       "      <th>HORAS MEDICAS PROGRAMADAS</th>\n",
       "      <th>MEDICOS</th>\n",
       "      <th>TOTAL CONSULTANTES</th>\n",
       "      <th>...</th>\n",
       "      <th>PSICOPROFILAXIS ENFERMERIA</th>\n",
       "      <th>VISITAS DOMICILIARIAS</th>\n",
       "      <th>VISITAS DOMICILIARIAS DE NUTRICION</th>\n",
       "      <th>VISITAS DOMICILIARIAS DE OBSTETRICIA</th>\n",
       "      <th>VISITAS DOMICILIARIAS TS</th>\n",
       "      <th>PERSONAL DE ENFERMERIA</th>\n",
       "      <th>PERSONAL DE OBSTETRICIA</th>\n",
       "      <th>PSICOPROFILAXIS DE PSICOLOGIA</th>\n",
       "      <th>VISITAS DOMICILIARIAS DE PSICOLOGIA</th>\n",
       "      <th>PSICOPROFILAXIS TS</th>\n",
       "    </tr>\n",
       "  </thead>\n",
       "  <tbody>\n",
       "    <tr>\n",
       "      <th>C.E. CENTRO NACIONAL DE SALUD RENAL _per_2016-01</th>\n",
       "      <td>46</td>\n",
       "      <td>46</td>\n",
       "      <td>0</td>\n",
       "      <td>0</td>\n",
       "      <td>1</td>\n",
       "      <td>1</td>\n",
       "      <td>12</td>\n",
       "      <td>12</td>\n",
       "      <td>2</td>\n",
       "      <td>46</td>\n",
       "      <td>...</td>\n",
       "      <td>0</td>\n",
       "      <td>24</td>\n",
       "      <td>0</td>\n",
       "      <td>0</td>\n",
       "      <td>23</td>\n",
       "      <td>59</td>\n",
       "      <td>0</td>\n",
       "      <td>0</td>\n",
       "      <td>0</td>\n",
       "      <td>0</td>\n",
       "    </tr>\n",
       "    <tr>\n",
       "      <th>C.E. CENTRO NACIONAL DE SALUD RENAL _per_2016-02</th>\n",
       "      <td>1</td>\n",
       "      <td>1</td>\n",
       "      <td>1</td>\n",
       "      <td>0</td>\n",
       "      <td>1</td>\n",
       "      <td>1</td>\n",
       "      <td>12</td>\n",
       "      <td>12</td>\n",
       "      <td>3</td>\n",
       "      <td>1</td>\n",
       "      <td>...</td>\n",
       "      <td>0</td>\n",
       "      <td>25</td>\n",
       "      <td>0</td>\n",
       "      <td>0</td>\n",
       "      <td>23</td>\n",
       "      <td>54</td>\n",
       "      <td>0</td>\n",
       "      <td>0</td>\n",
       "      <td>0</td>\n",
       "      <td>0</td>\n",
       "    </tr>\n",
       "    <tr>\n",
       "      <th>C.E. CENTRO NACIONAL DE SALUD RENAL _per_2016-03</th>\n",
       "      <td>1</td>\n",
       "      <td>1</td>\n",
       "      <td>1</td>\n",
       "      <td>0</td>\n",
       "      <td>1</td>\n",
       "      <td>1</td>\n",
       "      <td>12</td>\n",
       "      <td>12</td>\n",
       "      <td>3</td>\n",
       "      <td>1</td>\n",
       "      <td>...</td>\n",
       "      <td>0</td>\n",
       "      <td>22</td>\n",
       "      <td>0</td>\n",
       "      <td>0</td>\n",
       "      <td>15</td>\n",
       "      <td>57</td>\n",
       "      <td>0</td>\n",
       "      <td>0</td>\n",
       "      <td>0</td>\n",
       "      <td>0</td>\n",
       "    </tr>\n",
       "    <tr>\n",
       "      <th>C.E. CENTRO NACIONAL DE SALUD RENAL _per_2016-04</th>\n",
       "      <td>0</td>\n",
       "      <td>0</td>\n",
       "      <td>0</td>\n",
       "      <td>0</td>\n",
       "      <td>1</td>\n",
       "      <td>1</td>\n",
       "      <td>12</td>\n",
       "      <td>12</td>\n",
       "      <td>3</td>\n",
       "      <td>0</td>\n",
       "      <td>...</td>\n",
       "      <td>0</td>\n",
       "      <td>30</td>\n",
       "      <td>0</td>\n",
       "      <td>0</td>\n",
       "      <td>21</td>\n",
       "      <td>58</td>\n",
       "      <td>0</td>\n",
       "      <td>0</td>\n",
       "      <td>0</td>\n",
       "      <td>0</td>\n",
       "    </tr>\n",
       "    <tr>\n",
       "      <th>C.E. CENTRO NACIONAL DE SALUD RENAL _per_2016-05</th>\n",
       "      <td>0</td>\n",
       "      <td>0</td>\n",
       "      <td>0</td>\n",
       "      <td>0</td>\n",
       "      <td>1</td>\n",
       "      <td>1</td>\n",
       "      <td>12</td>\n",
       "      <td>12</td>\n",
       "      <td>2</td>\n",
       "      <td>0</td>\n",
       "      <td>...</td>\n",
       "      <td>0</td>\n",
       "      <td>24</td>\n",
       "      <td>0</td>\n",
       "      <td>0</td>\n",
       "      <td>20</td>\n",
       "      <td>59</td>\n",
       "      <td>0</td>\n",
       "      <td>0</td>\n",
       "      <td>0</td>\n",
       "      <td>0</td>\n",
       "    </tr>\n",
       "  </tbody>\n",
       "</table>\n",
       "<p>5 rows × 87 columns</p>\n",
       "</div>"
      ],
      "text/plain": [
       "                                                 CONSULTANTES ASEGURADOS  \\\n",
       "C.E. CENTRO NACIONAL DE SALUD RENAL _per_2016-01                      46   \n",
       "C.E. CENTRO NACIONAL DE SALUD RENAL _per_2016-02                       1   \n",
       "C.E. CENTRO NACIONAL DE SALUD RENAL _per_2016-03                       1   \n",
       "C.E. CENTRO NACIONAL DE SALUD RENAL _per_2016-04                       0   \n",
       "C.E. CENTRO NACIONAL DE SALUD RENAL _per_2016-05                       0   \n",
       "\n",
       "                                                 CONSULTANTES DEL SERVICIO  \\\n",
       "C.E. CENTRO NACIONAL DE SALUD RENAL _per_2016-01                        46   \n",
       "C.E. CENTRO NACIONAL DE SALUD RENAL _per_2016-02                         1   \n",
       "C.E. CENTRO NACIONAL DE SALUD RENAL _per_2016-03                         1   \n",
       "C.E. CENTRO NACIONAL DE SALUD RENAL _per_2016-04                         0   \n",
       "C.E. CENTRO NACIONAL DE SALUD RENAL _per_2016-05                         0   \n",
       "\n",
       "                                                 CONSULTANTES NUEVOS  \\\n",
       "C.E. CENTRO NACIONAL DE SALUD RENAL _per_2016-01                   0   \n",
       "C.E. CENTRO NACIONAL DE SALUD RENAL _per_2016-02                   1   \n",
       "C.E. CENTRO NACIONAL DE SALUD RENAL _per_2016-03                   1   \n",
       "C.E. CENTRO NACIONAL DE SALUD RENAL _per_2016-04                   0   \n",
       "C.E. CENTRO NACIONAL DE SALUD RENAL _per_2016-05                   0   \n",
       "\n",
       "                                                 CONSULTAS CAI  \\\n",
       "C.E. CENTRO NACIONAL DE SALUD RENAL _per_2016-01             0   \n",
       "C.E. CENTRO NACIONAL DE SALUD RENAL _per_2016-02             0   \n",
       "C.E. CENTRO NACIONAL DE SALUD RENAL _per_2016-03             0   \n",
       "C.E. CENTRO NACIONAL DE SALUD RENAL _per_2016-04             0   \n",
       "C.E. CENTRO NACIONAL DE SALUD RENAL _per_2016-05             0   \n",
       "\n",
       "                                                 CONSULTORIO FUNCIONAL  \\\n",
       "C.E. CENTRO NACIONAL DE SALUD RENAL _per_2016-01                     1   \n",
       "C.E. CENTRO NACIONAL DE SALUD RENAL _per_2016-02                     1   \n",
       "C.E. CENTRO NACIONAL DE SALUD RENAL _per_2016-03                     1   \n",
       "C.E. CENTRO NACIONAL DE SALUD RENAL _per_2016-04                     1   \n",
       "C.E. CENTRO NACIONAL DE SALUD RENAL _per_2016-05                     1   \n",
       "\n",
       "                                                 CONSULTORIOS FISICOS  \\\n",
       "C.E. CENTRO NACIONAL DE SALUD RENAL _per_2016-01                    1   \n",
       "C.E. CENTRO NACIONAL DE SALUD RENAL _per_2016-02                    1   \n",
       "C.E. CENTRO NACIONAL DE SALUD RENAL _per_2016-03                    1   \n",
       "C.E. CENTRO NACIONAL DE SALUD RENAL _per_2016-04                    1   \n",
       "C.E. CENTRO NACIONAL DE SALUD RENAL _per_2016-05                    1   \n",
       "\n",
       "                                                 HORAS MEDICAS EFECTIVAS  \\\n",
       "C.E. CENTRO NACIONAL DE SALUD RENAL _per_2016-01                      12   \n",
       "C.E. CENTRO NACIONAL DE SALUD RENAL _per_2016-02                      12   \n",
       "C.E. CENTRO NACIONAL DE SALUD RENAL _per_2016-03                      12   \n",
       "C.E. CENTRO NACIONAL DE SALUD RENAL _per_2016-04                      12   \n",
       "C.E. CENTRO NACIONAL DE SALUD RENAL _per_2016-05                      12   \n",
       "\n",
       "                                                 HORAS MEDICAS PROGRAMADAS  \\\n",
       "C.E. CENTRO NACIONAL DE SALUD RENAL _per_2016-01                        12   \n",
       "C.E. CENTRO NACIONAL DE SALUD RENAL _per_2016-02                        12   \n",
       "C.E. CENTRO NACIONAL DE SALUD RENAL _per_2016-03                        12   \n",
       "C.E. CENTRO NACIONAL DE SALUD RENAL _per_2016-04                        12   \n",
       "C.E. CENTRO NACIONAL DE SALUD RENAL _per_2016-05                        12   \n",
       "\n",
       "                                                 MEDICOS TOTAL CONSULTANTES  \\\n",
       "C.E. CENTRO NACIONAL DE SALUD RENAL _per_2016-01       2                 46   \n",
       "C.E. CENTRO NACIONAL DE SALUD RENAL _per_2016-02       3                  1   \n",
       "C.E. CENTRO NACIONAL DE SALUD RENAL _per_2016-03       3                  1   \n",
       "C.E. CENTRO NACIONAL DE SALUD RENAL _per_2016-04       3                  0   \n",
       "C.E. CENTRO NACIONAL DE SALUD RENAL _per_2016-05       2                  0   \n",
       "\n",
       "                                                        ...          \\\n",
       "C.E. CENTRO NACIONAL DE SALUD RENAL _per_2016-01        ...           \n",
       "C.E. CENTRO NACIONAL DE SALUD RENAL _per_2016-02        ...           \n",
       "C.E. CENTRO NACIONAL DE SALUD RENAL _per_2016-03        ...           \n",
       "C.E. CENTRO NACIONAL DE SALUD RENAL _per_2016-04        ...           \n",
       "C.E. CENTRO NACIONAL DE SALUD RENAL _per_2016-05        ...           \n",
       "\n",
       "                                                 PSICOPROFILAXIS ENFERMERIA  \\\n",
       "C.E. CENTRO NACIONAL DE SALUD RENAL _per_2016-01                          0   \n",
       "C.E. CENTRO NACIONAL DE SALUD RENAL _per_2016-02                          0   \n",
       "C.E. CENTRO NACIONAL DE SALUD RENAL _per_2016-03                          0   \n",
       "C.E. CENTRO NACIONAL DE SALUD RENAL _per_2016-04                          0   \n",
       "C.E. CENTRO NACIONAL DE SALUD RENAL _per_2016-05                          0   \n",
       "\n",
       "                                                 VISITAS DOMICILIARIAS  \\\n",
       "C.E. CENTRO NACIONAL DE SALUD RENAL _per_2016-01                    24   \n",
       "C.E. CENTRO NACIONAL DE SALUD RENAL _per_2016-02                    25   \n",
       "C.E. CENTRO NACIONAL DE SALUD RENAL _per_2016-03                    22   \n",
       "C.E. CENTRO NACIONAL DE SALUD RENAL _per_2016-04                    30   \n",
       "C.E. CENTRO NACIONAL DE SALUD RENAL _per_2016-05                    24   \n",
       "\n",
       "                                                 VISITAS DOMICILIARIAS DE NUTRICION  \\\n",
       "C.E. CENTRO NACIONAL DE SALUD RENAL _per_2016-01                                  0   \n",
       "C.E. CENTRO NACIONAL DE SALUD RENAL _per_2016-02                                  0   \n",
       "C.E. CENTRO NACIONAL DE SALUD RENAL _per_2016-03                                  0   \n",
       "C.E. CENTRO NACIONAL DE SALUD RENAL _per_2016-04                                  0   \n",
       "C.E. CENTRO NACIONAL DE SALUD RENAL _per_2016-05                                  0   \n",
       "\n",
       "                                                 VISITAS DOMICILIARIAS DE OBSTETRICIA  \\\n",
       "C.E. CENTRO NACIONAL DE SALUD RENAL _per_2016-01                                    0   \n",
       "C.E. CENTRO NACIONAL DE SALUD RENAL _per_2016-02                                    0   \n",
       "C.E. CENTRO NACIONAL DE SALUD RENAL _per_2016-03                                    0   \n",
       "C.E. CENTRO NACIONAL DE SALUD RENAL _per_2016-04                                    0   \n",
       "C.E. CENTRO NACIONAL DE SALUD RENAL _per_2016-05                                    0   \n",
       "\n",
       "                                                 VISITAS DOMICILIARIAS TS  \\\n",
       "C.E. CENTRO NACIONAL DE SALUD RENAL _per_2016-01                       23   \n",
       "C.E. CENTRO NACIONAL DE SALUD RENAL _per_2016-02                       23   \n",
       "C.E. CENTRO NACIONAL DE SALUD RENAL _per_2016-03                       15   \n",
       "C.E. CENTRO NACIONAL DE SALUD RENAL _per_2016-04                       21   \n",
       "C.E. CENTRO NACIONAL DE SALUD RENAL _per_2016-05                       20   \n",
       "\n",
       "                                                 PERSONAL DE ENFERMERIA  \\\n",
       "C.E. CENTRO NACIONAL DE SALUD RENAL _per_2016-01                     59   \n",
       "C.E. CENTRO NACIONAL DE SALUD RENAL _per_2016-02                     54   \n",
       "C.E. CENTRO NACIONAL DE SALUD RENAL _per_2016-03                     57   \n",
       "C.E. CENTRO NACIONAL DE SALUD RENAL _per_2016-04                     58   \n",
       "C.E. CENTRO NACIONAL DE SALUD RENAL _per_2016-05                     59   \n",
       "\n",
       "                                                 PERSONAL DE OBSTETRICIA  \\\n",
       "C.E. CENTRO NACIONAL DE SALUD RENAL _per_2016-01                       0   \n",
       "C.E. CENTRO NACIONAL DE SALUD RENAL _per_2016-02                       0   \n",
       "C.E. CENTRO NACIONAL DE SALUD RENAL _per_2016-03                       0   \n",
       "C.E. CENTRO NACIONAL DE SALUD RENAL _per_2016-04                       0   \n",
       "C.E. CENTRO NACIONAL DE SALUD RENAL _per_2016-05                       0   \n",
       "\n",
       "                                                 PSICOPROFILAXIS DE PSICOLOGIA  \\\n",
       "C.E. CENTRO NACIONAL DE SALUD RENAL _per_2016-01                             0   \n",
       "C.E. CENTRO NACIONAL DE SALUD RENAL _per_2016-02                             0   \n",
       "C.E. CENTRO NACIONAL DE SALUD RENAL _per_2016-03                             0   \n",
       "C.E. CENTRO NACIONAL DE SALUD RENAL _per_2016-04                             0   \n",
       "C.E. CENTRO NACIONAL DE SALUD RENAL _per_2016-05                             0   \n",
       "\n",
       "                                                 VISITAS DOMICILIARIAS DE PSICOLOGIA  \\\n",
       "C.E. CENTRO NACIONAL DE SALUD RENAL _per_2016-01                                   0   \n",
       "C.E. CENTRO NACIONAL DE SALUD RENAL _per_2016-02                                   0   \n",
       "C.E. CENTRO NACIONAL DE SALUD RENAL _per_2016-03                                   0   \n",
       "C.E. CENTRO NACIONAL DE SALUD RENAL _per_2016-04                                   0   \n",
       "C.E. CENTRO NACIONAL DE SALUD RENAL _per_2016-05                                   0   \n",
       "\n",
       "                                                 PSICOPROFILAXIS TS  \n",
       "C.E. CENTRO NACIONAL DE SALUD RENAL _per_2016-01                  0  \n",
       "C.E. CENTRO NACIONAL DE SALUD RENAL _per_2016-02                  0  \n",
       "C.E. CENTRO NACIONAL DE SALUD RENAL _per_2016-03                  0  \n",
       "C.E. CENTRO NACIONAL DE SALUD RENAL _per_2016-04                  0  \n",
       "C.E. CENTRO NACIONAL DE SALUD RENAL _per_2016-05                  0  \n",
       "\n",
       "[5 rows x 87 columns]"
      ]
     },
     "execution_count": 14,
     "metadata": {},
     "output_type": "execute_result"
    }
   ],
   "source": [
    "final_df.head()"
   ]
  },
  {
   "cell_type": "code",
   "execution_count": 15,
   "metadata": {},
   "outputs": [],
   "source": [
    "final_df.to_csv('data/output/essalud_data_2016.csv')"
   ]
  },
  {
   "cell_type": "code",
   "execution_count": null,
   "metadata": {},
   "outputs": [],
   "source": []
  }
 ],
 "metadata": {
  "kernelspec": {
   "display_name": "Python 3 (ch_env)",
   "language": "python",
   "name": "clusters_hospital_env"
  },
  "language_info": {
   "codemirror_mode": {
    "name": "ipython",
    "version": 3
   },
   "file_extension": ".py",
   "mimetype": "text/x-python",
   "name": "python",
   "nbconvert_exporter": "python",
   "pygments_lexer": "ipython3",
   "version": "3.6.6"
  }
 },
 "nbformat": 4,
 "nbformat_minor": 2
}
