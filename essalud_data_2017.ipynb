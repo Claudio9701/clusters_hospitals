{
 "cells": [
  {
   "cell_type": "code",
   "execution_count": 2,
   "metadata": {},
   "outputs": [],
   "source": [
    "import pandas as pd\n",
    "from tqdm import tqdm"
   ]
  },
  {
   "cell_type": "code",
   "execution_count": 3,
   "metadata": {},
   "outputs": [],
   "source": [
    "essalud = pd.ExcelFile('data/EsSalud en Cifras_Definitivo Diciembre  2017.xlsx')"
   ]
  },
  {
   "cell_type": "code",
   "execution_count": 4,
   "metadata": {},
   "outputs": [],
   "source": [
    "sheet_names = essalud.sheet_names[1:-8]"
   ]
  },
  {
   "cell_type": "code",
   "execution_count": 4,
   "metadata": {},
   "outputs": [
    {
     "name": "stderr",
     "output_type": "stream",
     "text": [
      "100%|██████████| 78/78 [03:10<00:00,  2.44s/it]\n"
     ]
    }
   ],
   "source": [
    "dfs = [pd.DataFrame(columns=['nivel-centro', 'periodo']+[sheet_name]) for sheet_name in sheet_names]\n",
    "n_sheet = 0\n",
    "\n",
    "for sheet_name in tqdm(sheet_names):\n",
    "    df = essalud.parse(sheet_name=sheet_name, skiprows=13)\n",
    "    df = df[df['Red'].isna()].drop(labels=['Red','Suma de Total'], axis=1)\n",
    "    df['nivel_centro'] = df['nivel'] + '-' + df['Centro']\n",
    "    df.index = df['nivel_centro']\n",
    "    \n",
    "    df_temp = df.iloc[:,2:-1]\n",
    "    periods_names = ['per_'+ elem[-6:-2] + '-' + elem[-2:] for elem in df.columns[2:-1]]\n",
    "    df_temp.columns = periods_names\n",
    "    \n",
    "    ix = 0\n",
    "    for row in df_temp.itertuples():\n",
    "        hospital = row.Index\n",
    "        for period_n, value in enumerate(row[1:]):\n",
    "            dfs[n_sheet].loc[ix,'nivel-centro'] = hospital\n",
    "            dfs[n_sheet].loc[ix,'periodo'] = periods_names[period_n]\n",
    "            dfs[n_sheet].loc[ix,sheet_name] = value\n",
    "            ix += 1\n",
    "    n_sheet += 1"
   ]
  },
  {
   "cell_type": "code",
   "execution_count": 5,
   "metadata": {},
   "outputs": [],
   "source": [
    "for i in range(len(dfs)):\n",
    "    dfs[i].index = dfs[i]['nivel-centro'] + '_' + dfs[i]['periodo']\n",
    "    dfs[i] = dfs[i].drop(labels=['nivel-centro','periodo'], axis=1)"
   ]
  },
  {
   "cell_type": "code",
   "execution_count": 6,
   "metadata": {},
   "outputs": [],
   "source": [
    "final_df = dfs[0]\n",
    "\n",
    "for i in range(1,len(dfs)):\n",
    "    final_df = final_df.join(dfs[i], how='outer')"
   ]
  },
  {
   "cell_type": "code",
   "execution_count": 8,
   "metadata": {},
   "outputs": [],
   "source": [
    "final_df.to_csv('data/essalud_data_2017.csv')"
   ]
  },
  {
   "cell_type": "code",
   "execution_count": null,
   "metadata": {},
   "outputs": [],
   "source": []
  }
 ],
 "metadata": {
  "kernelspec": {
   "display_name": "Python 3 (ch_env)",
   "language": "python",
   "name": "clusters_hospital_env"
  },
  "language_info": {
   "codemirror_mode": {
    "name": "ipython",
    "version": 3
   },
   "file_extension": ".py",
   "mimetype": "text/x-python",
   "name": "python",
   "nbconvert_exporter": "python",
   "pygments_lexer": "ipython3",
   "version": "3.6.6"
  }
 },
 "nbformat": 4,
 "nbformat_minor": 2
}
