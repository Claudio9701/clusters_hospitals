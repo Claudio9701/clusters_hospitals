{
 "cells": [
  {
   "cell_type": "code",
   "execution_count": 1,
   "metadata": {},
   "outputs": [],
   "source": [
    "import pandas as pd\n",
    "from tqdm import tqdm"
   ]
  },
  {
   "cell_type": "code",
   "execution_count": 2,
   "metadata": {},
   "outputs": [],
   "source": [
    "essalud = pd.ExcelFile('data/EsSalud en Cifras_Preliminar Julio  2018.xlsx')"
   ]
  },
  {
   "cell_type": "code",
   "execution_count": 5,
   "metadata": {},
   "outputs": [],
   "source": [
    "sheet_names = essalud.sheet_names[1:-8]"
   ]
  },
  {
   "cell_type": "code",
   "execution_count": 6,
   "metadata": {},
   "outputs": [
    {
     "data": {
      "text/plain": [
       "76"
      ]
     },
     "execution_count": 6,
     "metadata": {},
     "output_type": "execute_result"
    }
   ],
   "source": [
    "sheet_names.index('Psicoprofilaxis de Enfermería')"
   ]
  },
  {
   "cell_type": "code",
   "execution_count": 7,
   "metadata": {},
   "outputs": [
    {
     "name": "stdout",
     "output_type": "stream",
     "text": [
      "Eliminado por no aparecer en base 2017:  Prioridad V , N° Camillas de Emergencia\n",
      "Eliminado por no aparecer en base 2018:  Primera Consulta Médico Prev , Psicoprofilaxis de Nutrición , Psicoprofilaxis de Enfermería\n"
     ]
    }
   ],
   "source": [
    "print('Eliminado por no aparecer en base 2017: ', sheet_names[41], ',', sheet_names[42])\n",
    "print('Eliminado por no aparecer en base 2018: ', sheet_names[62], ',', sheet_names[70], ',', sheet_names[76])"
   ]
  },
  {
   "cell_type": "code",
   "execution_count": 8,
   "metadata": {},
   "outputs": [],
   "source": [
    "sheet_names.pop(41);\n",
    "sheet_names.pop(42-1);\n",
    "sheet_names.pop(62-2);\n",
    "sheet_names.pop(70-3);\n",
    "sheet_names.pop(76-4);"
   ]
  },
  {
   "cell_type": "code",
   "execution_count": 9,
   "metadata": {},
   "outputs": [
    {
     "name": "stderr",
     "output_type": "stream",
     "text": [
      "100%|██████████| 75/75 [03:01<00:00,  1.60s/it]\n"
     ]
    }
   ],
   "source": [
    "dfs = [pd.DataFrame(columns=['nivel-centro', 'periodo']+[sheet_name]) for sheet_name in sheet_names]\n",
    "\n",
    "n_sheet = 0\n",
    "for sheet_name in tqdm(sheet_names):\n",
    "    df = essalud.parse(sheet_name=sheet_name, skiprows=13)\n",
    "    df = df[df['Red'].isna()].drop(labels=['Red','Suma de Total'], axis=1)\n",
    "    df['nivel_centro'] = df['nivel'] + '-' + df['Centro']\n",
    "    df.index = df['nivel_centro']\n",
    "    \n",
    "    df_temp = df.iloc[:,2:-1]\n",
    "    periods_names = ['per_'+ elem[-6:-2] + '-' + elem[-2:] for elem in df.columns[2:-1]]\n",
    "    df_temp.columns = periods_names\n",
    "    \n",
    "    ix = 0\n",
    "    for row in df_temp.itertuples():\n",
    "        hospital = row.Index\n",
    "        for period_n, value in enumerate(row[1:]):\n",
    "            dfs[n_sheet].loc[ix,'nivel-centro'] = hospital\n",
    "            dfs[n_sheet].loc[ix,'periodo'] = periods_names[period_n]\n",
    "            dfs[n_sheet].loc[ix,sheet_name] = value\n",
    "            ix += 1\n",
    "    n_sheet += 1"
   ]
  },
  {
   "cell_type": "code",
   "execution_count": 14,
   "metadata": {},
   "outputs": [],
   "source": [
    "for i in range(len(dfs)):\n",
    "    dfs[i].index = dfs[i]['nivel-centro'] + '_' + dfs[i]['periodo']\n",
    "    dfs[i] = dfs[i].drop(labels=['nivel-centro','periodo'], axis=1)"
   ]
  },
  {
   "cell_type": "code",
   "execution_count": 15,
   "metadata": {},
   "outputs": [
    {
     "data": {
      "text/plain": [
       "75"
      ]
     },
     "execution_count": 15,
     "metadata": {},
     "output_type": "execute_result"
    }
   ],
   "source": [
    "len(dfs)"
   ]
  },
  {
   "cell_type": "code",
   "execution_count": 17,
   "metadata": {},
   "outputs": [],
   "source": [
    "final_df = dfs[0]\n",
    "\n",
    "for i in range(1,len(dfs)):\n",
    "    final_df = final_df.join(dfs[i], how='outer')"
   ]
  },
  {
   "cell_type": "code",
   "execution_count": 19,
   "metadata": {},
   "outputs": [],
   "source": [
    "final_df.to_csv('data/essalud_data_2018.csv')"
   ]
  },
  {
   "cell_type": "code",
   "execution_count": null,
   "metadata": {},
   "outputs": [],
   "source": []
  }
 ],
 "metadata": {
  "kernelspec": {
   "display_name": "Python 3 (ch_env)",
   "language": "python",
   "name": "clusters_hospital_env"
  },
  "language_info": {
   "codemirror_mode": {
    "name": "ipython",
    "version": 3
   },
   "file_extension": ".py",
   "mimetype": "text/x-python",
   "name": "python",
   "nbconvert_exporter": "python",
   "pygments_lexer": "ipython3",
   "version": "3.6.6"
  }
 },
 "nbformat": 4,
 "nbformat_minor": 2
}
