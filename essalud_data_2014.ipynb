{
 "cells": [
  {
   "cell_type": "code",
   "execution_count": 1,
   "metadata": {},
   "outputs": [],
   "source": [
    "import pandas as pd\n",
    "from tqdm import tqdm_notebook"
   ]
  },
  {
   "cell_type": "code",
   "execution_count": 2,
   "metadata": {},
   "outputs": [],
   "source": [
    "essalud = pd.ExcelFile('data/input/Essalud en Cifras - Definitivo Diciembre 2014.xls')"
   ]
  },
  {
   "cell_type": "code",
   "execution_count": 3,
   "metadata": {},
   "outputs": [],
   "source": [
    "sheet_names = essalud.sheet_names[1:10]"
   ]
  },
  {
   "cell_type": "code",
   "execution_count": 4,
   "metadata": {},
   "outputs": [],
   "source": [
    "at_primero_2015 = ['MENORES 1 AÑO TERCERA DOSIS PENTAVALENTE',\n",
    "                   'MUESTRAS PROCESADAS X PAP CERVICO VAGINA',\n",
    "                   'PRIMERA CONSULTA EXTERNA M. PREVENTIVA','CRED ADOLESCENTES','CRED NIÑOS',\n",
    "                   'MAMOGRAFIAS PREVENTIVAS 50 A 74 (RESULTA']\n",
    "\n",
    "consulta_ext_2015 = ['CONSULTANTES ASEGURADOS','CONSULTANTES DEL SERVICIO','CONSULTANTES NUEVOS',\n",
    "                     'CONSULTAS CAI','CONSULTORIO FUNCIONAL','CONSULTORIOS FISICOS',\n",
    "                     'HORAS MEDICAS EFECTIVAS','HORAS MEDICAS PROGRAMADAS','MEDICOS',\n",
    "                     'TOTAL CONSULTANTES','TOTAL CONSULTAS', 'CONSULTAS MEDICINA COMPLEMENTARIA']\n",
    "\n",
    "emergencia_2015 = ['ATENCIONES DE EMERGENCIA I','ATENCIONES DE EMERGENCIA II',\n",
    "              'ATENCIONES DE EMERGENCIA III','ATENCIONES DE EMERGENCIA IV',\n",
    "              'EGRESO PACIENTE <=24 HORAS','EGRESO PACIENTE > 24 HORAS']"
   ]
  },
  {
   "cell_type": "code",
   "execution_count": 5,
   "metadata": {},
   "outputs": [],
   "source": [
    "consulta_ext = ['CONSULTANTES ASEGURADOS','CONSULTANTES DEL SERVICIO','CONSULTANTES NUEVOS',\n",
    "                'CONSULTAS CAI','CONSULTORIO FUNCIONAL','CONSULTORIOS FISICOS',\n",
    "                'HORAS MEDICAS EFECTIVAS','HORAS MEDICAS PROGRAMADAS','MEDICOS',\n",
    "                'TOTAL CONSULTANTES','TOTAL CONSULTAS']\n",
    "\n",
    "hospitalizacion = ['CAMAS HOSPITALARIAS','DEFUNCIONES ANTES 48 HORAS',\n",
    "                   'DEFUNCIONES DESPUES 48 HORAS','DIAS CAMA DISPONIBLES','EGRESOS',\n",
    "                   'ESTANCIA','PACIENTES DIA','REINGRESOS','PACIENTE DIA UNIDAD CORONARIA']\n",
    "\n",
    "centr_quirurgico = ['CIRUGIA MAYOR ALTA COMPLEJIDAD','CIRUGIA MAYOR BAJA COMPLEJIDAD',\n",
    "                    'CIRUGIA MAYOR MEDIANA COMPLEJIDAD','CIRUGIA MENOR ALTO REQUERIMIENTO',\n",
    "                    'CIRUGIA MENOR BAJO REQUERIMIENTO',\n",
    "                    'HORAS PROGRAMADAS INTERVENCION QUIRURGIC','HORAS USO DE SALA',\n",
    "                    'INTERVENCION QUIRURGICA PROGRAMADAS',\n",
    "                    'INTERVENCIONES QUIRURGICAS SUSPENDIDAS','SALAS QUIRURGICAS FUNCIONALES']\n",
    "\n",
    "centr_obstetrico = ['CESAREAS','NACIDOS VIVOS','NACIMIENTOS','PARTOS CON COMPLICACION',\n",
    "                    'PARTOS SIN COMPLICACION','N° SALAS DE PARTOS',\n",
    "                    'PACIENTE DIA - PARTOS COMPLICADOS',\n",
    "                    'PACIENTE DIA - PARTOS SIN COMPLICACIÓN']\n",
    "\n",
    "emergencia = ['ATENCIONES DE EMERGENCIA I','ATENCIONES DE EMERGENCIA II',\n",
    "              'ATENCIONES DE EMERGENCIA III','ATENCIONES DE EMERGENCIA IV',\n",
    "              'PACIENTE DIA <=24 HORAS','PACIENTE DIA > 24 HORAS']\n",
    "\n",
    "odontologia = ['CONSULTANTES ODONTOLOGICOS','CONSULTORIOS FISICOS ODONTOLOGIA',\n",
    "               'CONSULTORIOS FUNCIONALES ODONTOLOGIA','HORAS ODONTOLOGICAS EFECTIVAS',\n",
    "               'HORAS ODONTOLOGICAS PROGRAMADAS','ODONTOLOGOS','SESIONES ODONTOLOGICAS',\n",
    "               'TRABAJOS ODONTOLOGICOS']\n",
    "\n",
    "act_interm = ['ANALISIS LABORATORIO CE','EXAMENES DE LABORATORIO','EXAMENES RADIOLOGICOS',\n",
    "              'EXAMENES RADIOLOGICOS CE','PLACAS RADIOLOGICAS','PLACAS RADIOLOGICAS CE',\n",
    "              'RECETAS DESPACHADAS','RECETAS DESPACHADAS CE']\n",
    "\n",
    "at_primero = ['MENORES 1 AÑO TERCERA DOSIS PENTAVALENTE','MAMOGRAFIAS PREVENTIVAS 40 A 65 (RESULTA',\n",
    "              'MUESTRAS PROCESADAS X PAP CERVICO VAGINA','PRIMERA CONSULTA EXTERNA M. PREVENTIVA',\n",
    "              'CRED ADOLESCENTES','CRED NIÑOS']\n",
    "\n",
    "at_sec = ['ACTIVIDADES EDUCACION GRUPAL TS','ATENCIONES PSICOLOGICAS','CONTROL DE ENFERMERIA',\n",
    "          'CONTROL DE NUTRICION','CONTROL DE OBSTETRICIA','CONTROL DE TRABAJO SOCIAL',\n",
    "          'EDUCACION GRUPAL DE ENFERMERIA','EDUCACION GRUPAL DE NUTRICION',\n",
    "          'EDUCACION GRUPAL DE OBSTETRICIA','PSICOPROFILAXIS DE NUTRICION',\n",
    "          'PSICOPROFILAXIS DE OBSTETRICIA','PSICOPROFILAXIS ENFERMERIA',\n",
    "          'VISITAS DOMICILIARIAS','VISITAS DOMICILIARIAS DE NUTRICION',\n",
    "          'VISITAS DOMICILIARIAS DE OBSTETRICIA','VISITAS DOMICILIARIAS TS',\n",
    "          'PERSONAL DE ENFERMERIA','PERSONAL DE OBSTETRICIA','PSICOPROFILAXIS DE PSICOLOGIA',\n",
    "          'VISITAS DOMICILIARIAS DE PSICOLOGIA','PSICOPROFILAXIS TS']\n",
    "\n",
    "variables_lists = [consulta_ext, hospitalizacion, centr_quirurgico, centr_obstetrico,\n",
    "                   emergencia, odontologia, act_interm, at_primero, at_sec]\n",
    "\n",
    "red_asist = ['ALMENARA','AMAZONAS','ANCASH','APURIMAC','AREQUIPA','AYACUCHO','CAJAMARCA',\n",
    "             'CENTRO NACIONAL SALUD RENAL','CUSCO','HUANCAVELICA','HUANUCO','ICA','INCOR',\n",
    "             'JULIACA','JUNIN','LA LIBERTAD','LAMBAYEQUE','LORETO','MADRE DE DIOS',\n",
    "             'MOQUEGUA','MOYOBAMBA','PASCO','PIURA','PUNO','REBAGLIATI','SABOGAL',\n",
    "             'TACNA','TARAPOTO','TUMBES','UCAYALI','HUARAZ']\n"
   ]
  },
  {
   "cell_type": "code",
   "execution_count": 6,
   "metadata": {},
   "outputs": [],
   "source": [
    "n_vars = 0\n",
    "for list_ in variables_lists:\n",
    "    n_vars += len(list_)"
   ]
  },
  {
   "cell_type": "code",
   "execution_count": 7,
   "metadata": {},
   "outputs": [
    {
     "data": {
      "text/plain": [
       "87"
      ]
     },
     "execution_count": 7,
     "metadata": {},
     "output_type": "execute_result"
    }
   ],
   "source": [
    "n_vars"
   ]
  },
  {
   "cell_type": "code",
   "execution_count": 8,
   "metadata": {},
   "outputs": [
    {
     "name": "stdout",
     "output_type": "stream",
     "text": [
      "Sheet: CONSULTA EXTERNA\n"
     ]
    },
    {
     "data": {
      "application/vnd.jupyter.widget-view+json": {
       "model_id": "8833368911404b34b74a3e9488c642d8",
       "version_major": 2,
       "version_minor": 0
      },
      "text/plain": [
       "HBox(children=(IntProgress(value=0, max=11), HTML(value='')))"
      ]
     },
     "metadata": {},
     "output_type": "display_data"
    },
    {
     "name": "stdout",
     "output_type": "stream",
     "text": [
      "\n",
      "Sheet: HOSPITALIZACION\n"
     ]
    },
    {
     "data": {
      "application/vnd.jupyter.widget-view+json": {
       "model_id": "6d65886ebfdb496e922d546cb29c0c58",
       "version_major": 2,
       "version_minor": 0
      },
      "text/plain": [
       "HBox(children=(IntProgress(value=0, max=9), HTML(value='')))"
      ]
     },
     "metadata": {},
     "output_type": "display_data"
    },
    {
     "name": "stdout",
     "output_type": "stream",
     "text": [
      "\n",
      "Sheet: CENTRO QUIRURGICO\n"
     ]
    },
    {
     "data": {
      "application/vnd.jupyter.widget-view+json": {
       "model_id": "dd76abc1c9c049b9a8b7c057dac3bd35",
       "version_major": 2,
       "version_minor": 0
      },
      "text/plain": [
       "HBox(children=(IntProgress(value=0, max=10), HTML(value='')))"
      ]
     },
     "metadata": {},
     "output_type": "display_data"
    },
    {
     "name": "stdout",
     "output_type": "stream",
     "text": [
      "\n",
      "Sheet: CENTRO OBSTETRICO\n"
     ]
    },
    {
     "data": {
      "application/vnd.jupyter.widget-view+json": {
       "model_id": "4830348f643349f08b0d3dd70b35a054",
       "version_major": 2,
       "version_minor": 0
      },
      "text/plain": [
       "HBox(children=(IntProgress(value=0, max=8), HTML(value='')))"
      ]
     },
     "metadata": {},
     "output_type": "display_data"
    },
    {
     "name": "stdout",
     "output_type": "stream",
     "text": [
      "\n",
      "Sheet: EMERGENCIA\n"
     ]
    },
    {
     "data": {
      "application/vnd.jupyter.widget-view+json": {
       "model_id": "178b43fb14494cd1ab9ec70c22c43999",
       "version_major": 2,
       "version_minor": 0
      },
      "text/plain": [
       "HBox(children=(IntProgress(value=0, max=6), HTML(value='')))"
      ]
     },
     "metadata": {},
     "output_type": "display_data"
    },
    {
     "name": "stdout",
     "output_type": "stream",
     "text": [
      "\n",
      "Sheet: ODONTOLOGIA\n"
     ]
    },
    {
     "data": {
      "application/vnd.jupyter.widget-view+json": {
       "model_id": "5633d57882ca424fb36dcae143256d4e",
       "version_major": 2,
       "version_minor": 0
      },
      "text/plain": [
       "HBox(children=(IntProgress(value=0, max=8), HTML(value='')))"
      ]
     },
     "metadata": {},
     "output_type": "display_data"
    },
    {
     "name": "stdout",
     "output_type": "stream",
     "text": [
      "\n",
      "Sheet: ACTIVIDADES INTERMEDIAS\n"
     ]
    },
    {
     "data": {
      "application/vnd.jupyter.widget-view+json": {
       "model_id": "75a41604f53a45a7b51b96a04dea0a20",
       "version_major": 2,
       "version_minor": 0
      },
      "text/plain": [
       "HBox(children=(IntProgress(value=0, max=8), HTML(value='')))"
      ]
     },
     "metadata": {},
     "output_type": "display_data"
    },
    {
     "name": "stdout",
     "output_type": "stream",
     "text": [
      "\n",
      "Sheet: ATENCION PRIMARIA\n"
     ]
    },
    {
     "data": {
      "application/vnd.jupyter.widget-view+json": {
       "model_id": "b0c367a5dc20403db7856ace6c78268d",
       "version_major": 2,
       "version_minor": 0
      },
      "text/plain": [
       "HBox(children=(IntProgress(value=0, max=6), HTML(value='')))"
      ]
     },
     "metadata": {},
     "output_type": "display_data"
    },
    {
     "name": "stdout",
     "output_type": "stream",
     "text": [
      "\n",
      "Sheet: ATENCION NOMEDICA\n"
     ]
    },
    {
     "data": {
      "application/vnd.jupyter.widget-view+json": {
       "model_id": "f7c41a477a72495986b3853273688404",
       "version_major": 2,
       "version_minor": 0
      },
      "text/plain": [
       "HBox(children=(IntProgress(value=0, max=21), HTML(value='')))"
      ]
     },
     "metadata": {},
     "output_type": "display_data"
    },
    {
     "name": "stdout",
     "output_type": "stream",
     "text": [
      "\n"
     ]
    }
   ],
   "source": [
    "year = '2014'\n",
    "\n",
    "dfs = []\n",
    "\n",
    "for i, sheet_name in enumerate(sheet_names):\n",
    "    df = essalud.parse(sheet_name=sheet_name, skiprows=9)\n",
    "    df = df.iloc[:,1:]\n",
    "    print('Sheet: {}'.format(sheet_name))\n",
    "    for j in tqdm_notebook(range(len(variables_lists[i])), total=len(variables_lists[i])):\n",
    "    \n",
    "        if j < len(variables_lists[i])-1:\n",
    "            init_ix = df[df['VARIABLE / RED ASISTENCIAL / CENTRO ASISTENCIAL'] == variables_lists[i][j]].index.values[0] + 1\n",
    "            final_ix = df[df['VARIABLE / RED ASISTENCIAL / CENTRO ASISTENCIAL'] == variables_lists[i][j+1]].index.values[0] - 1\n",
    "            df_var1 = df.loc[init_ix:final_ix,:]\n",
    "        else:\n",
    "            init_ix = df[df['VARIABLE / RED ASISTENCIAL / CENTRO ASISTENCIAL'] == variables_lists[i][j]].index.values[0] + 1\n",
    "            df_var1 = df.loc[init_ix:init_ix+430,:]\n",
    "        \n",
    "        red_asist_filter = [df_var1['VARIABLE / RED ASISTENCIAL / CENTRO ASISTENCIAL'] != red_asist_val for red_asist_val in red_asist]\n",
    "        \n",
    "        # Generate Boleean Series to filter RED_ASIST VARS\n",
    "        for k in range(1, len(red_asist_filter)):\n",
    "            if k == 1:\n",
    "                temp = red_asist_filter[k] & red_asist_filter[k-1]\n",
    "            else:\n",
    "                temp = red_asist_filter[k] & temp\n",
    "\n",
    "        not_redasist = temp\n",
    "                      \n",
    "        df_var1 = df_var1[not_redasist]\n",
    "        df_var1 = df_var1.melt(id_vars=df_var1.columns[0], value_vars=df_var1.columns[1:])\n",
    "        df_var1 = df_var1.rename(index=str, \n",
    "                                 columns={\"VARIABLE / RED ASISTENCIAL / CENTRO ASISTENCIAL\": \"centro_asist\",\n",
    "                                          \"variable\": \"month\",\n",
    "                                          \"value\": variables_lists[i][j]})\n",
    "        df_var1['month'] = df_var1['month'].replace(to_replace=df_var1['month'].unique(),\n",
    "                                                    value=['TOTAL','01','02','03','04','05','06','07','08','09','10', '11', '12'])\n",
    "        df_var1['centro_asist'] = df_var1['centro_asist'].str.extract(pat='([A-Z .]+)')\n",
    "        df_var1.index = df_var1['centro_asist'] + '_' + 'per' + '_' + year + '-' + df_var1['month']\n",
    "        df_var1.drop(labels=['centro_asist','month'], axis=1, inplace=True)\n",
    "        df_var1.dropna(inplace=True)\n",
    "        df_var1.sort_index(inplace=True)\n",
    "        \n",
    "        dfs.append(df_var1.T)\n"
   ]
  },
  {
   "cell_type": "code",
   "execution_count": 9,
   "metadata": {},
   "outputs": [
    {
     "data": {
      "text/html": [
       "<div>\n",
       "<style scoped>\n",
       "    .dataframe tbody tr th:only-of-type {\n",
       "        vertical-align: middle;\n",
       "    }\n",
       "\n",
       "    .dataframe tbody tr th {\n",
       "        vertical-align: top;\n",
       "    }\n",
       "\n",
       "    .dataframe thead th {\n",
       "        text-align: right;\n",
       "    }\n",
       "</style>\n",
       "<table border=\"1\" class=\"dataframe\">\n",
       "  <thead>\n",
       "    <tr style=\"text-align: right;\">\n",
       "      <th></th>\n",
       "      <th>C.E. CENTRO NACIONAL DE SALUD RENAL _per_2014-01</th>\n",
       "      <th>C.E. CENTRO NACIONAL DE SALUD RENAL _per_2014-02</th>\n",
       "      <th>C.E. CENTRO NACIONAL DE SALUD RENAL _per_2014-03</th>\n",
       "      <th>C.E. CENTRO NACIONAL DE SALUD RENAL _per_2014-04</th>\n",
       "      <th>C.E. CENTRO NACIONAL DE SALUD RENAL _per_2014-05</th>\n",
       "      <th>C.E. CENTRO NACIONAL DE SALUD RENAL _per_2014-06</th>\n",
       "      <th>C.E. CENTRO NACIONAL DE SALUD RENAL _per_2014-07</th>\n",
       "      <th>C.E. CENTRO NACIONAL DE SALUD RENAL _per_2014-08</th>\n",
       "      <th>C.E. CENTRO NACIONAL DE SALUD RENAL _per_2014-09</th>\n",
       "      <th>C.E. CENTRO NACIONAL DE SALUD RENAL _per_2014-10</th>\n",
       "      <th>...</th>\n",
       "      <th>UBAP MANCHAY _per_2014-04</th>\n",
       "      <th>UBAP MANCHAY _per_2014-05</th>\n",
       "      <th>UBAP MANCHAY _per_2014-06</th>\n",
       "      <th>UBAP MANCHAY _per_2014-07</th>\n",
       "      <th>UBAP MANCHAY _per_2014-08</th>\n",
       "      <th>UBAP MANCHAY _per_2014-09</th>\n",
       "      <th>UBAP MANCHAY _per_2014-10</th>\n",
       "      <th>UBAP MANCHAY _per_2014-11</th>\n",
       "      <th>UBAP MANCHAY _per_2014-12</th>\n",
       "      <th>UBAP MANCHAY _per_2014-TOTAL</th>\n",
       "    </tr>\n",
       "  </thead>\n",
       "  <tbody>\n",
       "    <tr>\n",
       "      <th>CONSULTANTES ASEGURADOS</th>\n",
       "      <td>46</td>\n",
       "      <td>0</td>\n",
       "      <td>1</td>\n",
       "      <td>0</td>\n",
       "      <td>0</td>\n",
       "      <td>3</td>\n",
       "      <td>0</td>\n",
       "      <td>0</td>\n",
       "      <td>0</td>\n",
       "      <td>0</td>\n",
       "      <td>...</td>\n",
       "      <td>179</td>\n",
       "      <td>121</td>\n",
       "      <td>131</td>\n",
       "      <td>124</td>\n",
       "      <td>119</td>\n",
       "      <td>115</td>\n",
       "      <td>71</td>\n",
       "      <td>44</td>\n",
       "      <td>0</td>\n",
       "      <td>1380</td>\n",
       "    </tr>\n",
       "  </tbody>\n",
       "</table>\n",
       "<p>1 rows × 5200 columns</p>\n",
       "</div>"
      ],
      "text/plain": [
       "                        C.E. CENTRO NACIONAL DE SALUD RENAL _per_2014-01  \\\n",
       "CONSULTANTES ASEGURADOS                                               46   \n",
       "\n",
       "                        C.E. CENTRO NACIONAL DE SALUD RENAL _per_2014-02  \\\n",
       "CONSULTANTES ASEGURADOS                                                0   \n",
       "\n",
       "                        C.E. CENTRO NACIONAL DE SALUD RENAL _per_2014-03  \\\n",
       "CONSULTANTES ASEGURADOS                                                1   \n",
       "\n",
       "                        C.E. CENTRO NACIONAL DE SALUD RENAL _per_2014-04  \\\n",
       "CONSULTANTES ASEGURADOS                                                0   \n",
       "\n",
       "                        C.E. CENTRO NACIONAL DE SALUD RENAL _per_2014-05  \\\n",
       "CONSULTANTES ASEGURADOS                                                0   \n",
       "\n",
       "                        C.E. CENTRO NACIONAL DE SALUD RENAL _per_2014-06  \\\n",
       "CONSULTANTES ASEGURADOS                                                3   \n",
       "\n",
       "                        C.E. CENTRO NACIONAL DE SALUD RENAL _per_2014-07  \\\n",
       "CONSULTANTES ASEGURADOS                                                0   \n",
       "\n",
       "                        C.E. CENTRO NACIONAL DE SALUD RENAL _per_2014-08  \\\n",
       "CONSULTANTES ASEGURADOS                                                0   \n",
       "\n",
       "                        C.E. CENTRO NACIONAL DE SALUD RENAL _per_2014-09  \\\n",
       "CONSULTANTES ASEGURADOS                                                0   \n",
       "\n",
       "                        C.E. CENTRO NACIONAL DE SALUD RENAL _per_2014-10  \\\n",
       "CONSULTANTES ASEGURADOS                                                0   \n",
       "\n",
       "                                    ...               \\\n",
       "CONSULTANTES ASEGURADOS             ...                \n",
       "\n",
       "                        UBAP MANCHAY _per_2014-04 UBAP MANCHAY _per_2014-05  \\\n",
       "CONSULTANTES ASEGURADOS                       179                       121   \n",
       "\n",
       "                        UBAP MANCHAY _per_2014-06 UBAP MANCHAY _per_2014-07  \\\n",
       "CONSULTANTES ASEGURADOS                       131                       124   \n",
       "\n",
       "                        UBAP MANCHAY _per_2014-08 UBAP MANCHAY _per_2014-09  \\\n",
       "CONSULTANTES ASEGURADOS                       119                       115   \n",
       "\n",
       "                        UBAP MANCHAY _per_2014-10 UBAP MANCHAY _per_2014-11  \\\n",
       "CONSULTANTES ASEGURADOS                        71                        44   \n",
       "\n",
       "                        UBAP MANCHAY _per_2014-12 UBAP MANCHAY _per_2014-TOTAL  \n",
       "CONSULTANTES ASEGURADOS                         0                         1380  \n",
       "\n",
       "[1 rows x 5200 columns]"
      ]
     },
     "execution_count": 9,
     "metadata": {},
     "output_type": "execute_result"
    }
   ],
   "source": [
    "dfs[0]"
   ]
  },
  {
   "cell_type": "code",
   "execution_count": 13,
   "metadata": {
    "scrolled": true
   },
   "outputs": [],
   "source": [
    "final_df = dfs[0]\n",
    "\n",
    "for i in range(1,len(dfs)):\n",
    "    final_df = final_df.append(dfs[i])"
   ]
  },
  {
   "cell_type": "code",
   "execution_count": 15,
   "metadata": {},
   "outputs": [],
   "source": [
    "final_df = final_df.T"
   ]
  },
  {
   "cell_type": "code",
   "execution_count": 16,
   "metadata": {},
   "outputs": [],
   "source": [
    "final_df.to_csv('data/output/essalud_data_2014.csv')"
   ]
  },
  {
   "cell_type": "code",
   "execution_count": null,
   "metadata": {},
   "outputs": [],
   "source": []
  }
 ],
 "metadata": {
  "kernelspec": {
   "display_name": "Python 3 (ch_env)",
   "language": "python",
   "name": "clusters_hospital_env"
  },
  "language_info": {
   "codemirror_mode": {
    "name": "ipython",
    "version": 3
   },
   "file_extension": ".py",
   "mimetype": "text/x-python",
   "name": "python",
   "nbconvert_exporter": "python",
   "pygments_lexer": "ipython3",
   "version": "3.6.6"
  }
 },
 "nbformat": 4,
 "nbformat_minor": 2
}
