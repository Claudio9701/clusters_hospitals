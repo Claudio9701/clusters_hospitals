{
 "cells": [
  {
   "cell_type": "code",
   "execution_count": 1,
   "metadata": {},
   "outputs": [],
   "source": [
    "import pandas as pd\n",
    "import pandas_profiling as pd_profiling\n",
    "import os"
   ]
  },
  {
   "cell_type": "code",
   "execution_count": 2,
   "metadata": {},
   "outputs": [],
   "source": [
    "df_2014 = pd.read_csv('data/output/essalud_data_2014.csv', index_col=0)\n",
    "df_2015 = pd.read_csv('data/output/essalud_data_2015.csv', index_col=0)\n",
    "df_2016 = pd.read_csv('data/output/essalud_data_2016.csv', index_col=0)\n",
    "df_2017 = pd.read_csv('data/output/essalud_data_2017.csv', index_col=0)\n",
    "df_2018 = pd.read_csv('data/output/essalud_data_2018.csv', index_col=0)"
   ]
  },
  {
   "cell_type": "code",
   "execution_count": 3,
   "metadata": {},
   "outputs": [
    {
     "name": "stdout",
     "output_type": "stream",
     "text": [
      "# Variables 2014:  87\n",
      "# Variables 2015:  88\n",
      "# Variables 2016:  87\n"
     ]
    }
   ],
   "source": [
    "print('# Variables 2014: ', df_2014.shape[1])\n",
    "print('# Variables 2015: ', df_2015.shape[1])\n",
    "print('# Variables 2016: ', df_2016.shape[1])"
   ]
  },
  {
   "cell_type": "code",
   "execution_count": 4,
   "metadata": {},
   "outputs": [
    {
     "name": "stdout",
     "output_type": "stream",
     "text": [
      "# Variables 2017:  78\n",
      "# Variables 2017:  75\n"
     ]
    }
   ],
   "source": [
    "print('# Variables 2017: ', df_2017.shape[1])\n",
    "print('# Variables 2017: ', df_2018.shape[1])"
   ]
  },
  {
   "cell_type": "code",
   "execution_count": 5,
   "metadata": {},
   "outputs": [
    {
     "name": "stdout",
     "output_type": "stream",
     "text": [
      "# Variables 2014 y 2015:  84\n"
     ]
    }
   ],
   "source": [
    "period_0 = df_2014.columns.intersection(df_2015.columns)\n",
    "print('# Variables 2014 y 2015: ',len(period_0))"
   ]
  },
  {
   "cell_type": "code",
   "execution_count": 6,
   "metadata": {},
   "outputs": [],
   "source": [
    "df_period0 = df_2014[period_0].append(df_2015[period_0])"
   ]
  },
  {
   "cell_type": "code",
   "execution_count": 7,
   "metadata": {},
   "outputs": [
    {
     "name": "stdout",
     "output_type": "stream",
     "text": [
      "# Variables 2014, 2015 y 2016:  80\n"
     ]
    }
   ],
   "source": [
    "period_1 = period_0.intersection(df_2016.columns)\n",
    "print('# Variables 2014, 2015 y 2016: ',len(period_1))"
   ]
  },
  {
   "cell_type": "code",
   "execution_count": 8,
   "metadata": {},
   "outputs": [],
   "source": [
    "df_period1 = df_period0[period_1].append(df_2016[period_1])"
   ]
  },
  {
   "cell_type": "code",
   "execution_count": 9,
   "metadata": {},
   "outputs": [
    {
     "name": "stdout",
     "output_type": "stream",
     "text": [
      "# Variables 2017 y 2018:  75\n"
     ]
    }
   ],
   "source": [
    "period_2 = df_2017.columns.intersection(df_2018.columns)\n",
    "print('# Variables 2017 y 2018: ', len(period_2))"
   ]
  },
  {
   "cell_type": "code",
   "execution_count": 10,
   "metadata": {},
   "outputs": [],
   "source": [
    "df_period2 = df_2017[period_2].append(df_2018[period_2])"
   ]
  },
  {
   "cell_type": "code",
   "execution_count": 11,
   "metadata": {},
   "outputs": [
    {
     "name": "stdout",
     "output_type": "stream",
     "text": [
      "# Variables 2014-2018:  12\n"
     ]
    }
   ],
   "source": [
    "period_total = period_2.str.lower().intersection(period_1.str.lower())\n",
    "print('# Variables 2014-2018: ', len(period_total))"
   ]
  },
  {
   "cell_type": "code",
   "execution_count": 12,
   "metadata": {},
   "outputs": [],
   "source": [
    "new2old_names = {'Consultas': 'TOTAL CONSULTAS',\n",
    "    'Consultas de Atención Inmediata': 'CONSULTAS CAI',\n",
    "    'Consultantes al Establecimiento': 'TOTAL CONSULTANTES',\n",
    "    'Consultantes Nuevos': 'CONSULTANTES NUEVOS',\n",
    "    'Consultantes Asegurados': 'CONSULTANTES ASEGURADOS',\n",
    "    'Médicos': 'MEDICOS',\n",
    "    'Horas Médicas Programadas': 'HORAS MEDICAS PROGRAMADAS',\n",
    "    'Horas Médicas Efectivas': 'HORAS MEDICAS EFECTIVAS',\n",
    "    'Consultorios Fisicos': 'CONSULTORIOS FISICOS',\n",
    "    'Consultorios Funcionales': 'CONSULTORIO FUNCIONAL',\n",
    "    'Egresos': 'EGRESOS',\n",
    "    'Estancias': 'ESTANCIA',\n",
    "    'Pacientes dias': 'PACIENTES DIA',\n",
    "    'Dias cama disponible': 'DIAS CAMA DISPONIBLES',\n",
    "    'Camas hospitalarias': 'CAMAS HOSPITALARIAS',\n",
    "    'Def. antes 48 hrs': 'DEFUNCIONES ANTES 48 HORAS',\n",
    "    'Def. despues 48 hrs': 'DEFUNCIONES DESPUES 48 HORAS',\n",
    "    'Reingresos': 'REINGRESOS',\n",
    "    'Total I.Q.': 'Total I.Q.',\n",
    "    'CONSULTANTES DEL SERVICIO': 'CONSULTANTES DEL SERVICIO',\n",
    "    'PACIENTE DIA UNIDAD CORONARIA': 'PACIENTE DIA UNIDAD CORONARIA',\n",
    "    'Cirugia Mayor de AC': 'CIRUGIA MAYOR ALTA COMPLEJIDAD',\n",
    "    'Cirugia Menor de MC': 'Cirugia Menor de MC',\n",
    "    'Cirugia Mayor de BC': 'CIRUGIA MAYOR BAJA COMPLEJIDAD',\n",
    "    'CIRUGIA MAYOR MEDIANA COMPLEJIDAD': 'CIRUGIA MAYOR MEDIANA COMPLEJIDAD',\n",
    "    'Cirugia Menor de AR': 'CIRUGIA MENOR ALTO REQUERIMIENTO',\n",
    "    'Cirugia Menor de BR': 'CIRUGIA MENOR BAJO REQUERIMIENTO',\n",
    "    'Horas Uso Sala': 'HORAS USO DE SALA',\n",
    "    'Horas Programadas': 'HORAS PROGRAMADAS INTERVENCION QUIRURGIC',\n",
    "    'Salas Quirúrgicas': 'SALAS QUIRURGICAS FUNCIONALES',\n",
    "    'Operaciones Suspendidas': 'INTERVENCIONES QUIRURGICAS SUSPENDIDAS',\n",
    "    'Intervenciones Q Programadas': 'INTERVENCION QUIRURGICA PROGRAMADAS',\n",
    "    'Total partos': 'Total partos',\n",
    "    'Partos sin complicación': 'PARTOS SIN COMPLICACION',\n",
    "    'Partos con complicación': 'PARTOS CON COMPLICACION',\n",
    "    'Sala de partos': 'Sala de partos',\n",
    "    'Cesareas': 'CESAREAS',\n",
    "    'Nacimientos': 'NACIMIENTOS',\n",
    "    'Nacidos vivos': 'NACIDOS VIVOS',\n",
    "    'Total de atenciones': 'Total de atenciones',\n",
    "    'PACIENTE DIA - PARTOS COMPLICADOS': 'PACIENTE DIA - PARTOS COMPLICADOS',\n",
    "    'Prioridad I': 'ATENCIONES DE EMERGENCIA I',\n",
    "    'Prioridad II': 'ATENCIONES DE EMERGENCIA II',\n",
    "    'Prioridad III': 'ATENCIONES DE EMERGENCIA III',\n",
    "    'Prioridad IV': 'ATENCIONES DE EMERGENCIA IV',\n",
    "    'Sesiones Odontológicas': 'SESIONES ODONTOLOGICAS',\n",
    "    'Trabajos Odontológicos': 'TRABAJOS ODONTOLOGICOS',\n",
    "    'Consultantes de odontología': 'CONSULTANTES ODONTOLOGICOS',\n",
    "    'Odontólogos': 'ODONTOLOGOS',\n",
    "    'Horas odontológicas efecivas': 'HORAS ODONTOLOGICAS EFECTIVAS',\n",
    "    'Horas odontológicas programadas': 'HORAS ODONTOLOGICAS PROGRAMADAS',\n",
    "    'Consultorios fisicos Odontólogi': 'CONSULTORIOS FISICOS ODONTOLOGIA',\n",
    "    'Consultorios funcional Odontó ': 'CONSULTORIOS FUNCIONALES ODONTOLOGIA',\n",
    "    'Recetas despachadas': 'RECETAS DESPACHADAS',\n",
    "    'Recetas despachadas C E': 'RECETAS DESPACHADAS CE',\n",
    "    'Análisis de laboratorio': 'EXAMENES DE LABORATORIO',\n",
    "    'Análisis de laboratorio C E': 'ANALISIS LABORATORIO CE',\n",
    "    'Exámenes radiológicos': 'EXAMENES RADIOLOGICOS',\n",
    "    'Exámenes radiológicos C E': 'EXAMENES RADIOLOGICOS CE',\n",
    "    'Placas radiológicas': 'PLACAS RADIOLOGICAS',\n",
    "    'Placas radiológicas C E': 'PLACAS RADIOLOGICAS CE',\n",
    "    'Mamografias Preventivas': 'Mamografias Preventivas',\n",
    "    'Muestras Porcesas x PAP': 'MUESTRAS PROCESADAS X PAP CERVICO VAGINA',\n",
    "    '3era. Dosis Pentavalente': '3era. Dosis Pentavalente',\n",
    "    'PRIMERA CONSULTA EXTERNA M. PREVENTIVA': 'PRIMERA CONSULTA EXTERNA M. PREVENTIVA',\n",
    "    'CRED ADOLESCENTES': 'CRED ADOLESCENTES',\n",
    "    'ATENCIONES PSICOLOGICAS': 'Atenciones Psicología',\n",
    "    'Control de Enfermería': 'CONTROL DE ENFERMERIA',\n",
    "    'Control de nutrición': 'CONTROL DE NUTRICION',\n",
    "    'Control de Trabajo Social': 'CONTROL DE TRABAJO SOCIAL',\n",
    "    'CONTROL DE OBSTETRICIA': 'CONTROL DE OBSTETRICIA',\n",
    "    'Educación Grupal de enfermería': 'EDUCACION GRUPAL DE ENFERMERIA',\n",
    "    'Educación Grupal de Nutrución': 'EDUCACION GRUPAL DE NUTRICION',\n",
    "    'Educación Grupal Trabajo Social': 'ACTIVIDADES EDUCACION GRUPAL TS',\n",
    "    'Educación Grupal de Obstetricia': 'EDUCACION GRUPAL DE OBSTETRICIA',\n",
    "    'Psicoprofilaxis de Obstetricia': 'PSICOPROFILAXIS DE OBSTETRICIA',\n",
    "    'PSICOPROFILAXIS DE NUTRICION': 'PSICOPROFILAXIS DE NUTRICION',\n",
    "    'PSICOPROFILAXIS ENFERMERIA': 'PSICOPROFILAXIS ENFERMERIA',\n",
    "    'VISITAS DOMICILIARIAS': 'VISITAS DOMICILIARIAS',\n",
    "    'Visitas Domiciliarias de Enferm': 'Visitas Domiciliarias de Enferm',\n",
    "    'Visitas Domiciliarias de Nutric': 'VISITAS DOMICILIARIAS DE NUTRICION',\n",
    "    'Visitas Domiciliarias de Obstet': 'VISITAS DOMICILIARIAS DE OBSTETRICIA',\n",
    "    'Visitas Domiciliarias de T S': 'VISITAS DOMICILIARIAS TS',\n",
    "    'PERSONAL DE ENFERMERIA': 'PERSONAL DE ENFERMERIA',\n",
    "    'PERSONAL DE OBSTETRICIA': 'PERSONAL DE OBSTETRICIA',\n",
    "    'Psicoprofilaxis de Psicología': 'PSICOPROFILAXIS DE PSICOLOGIA',\n",
    "    'Visitas Domiciliarias de Psicol': 'VISITAS DOMICILIARIAS DE PSICOLOGIA',\n",
    "    'PSICOPROFILAXIS TS': 'PSICOPROFILAXIS TS'\n",
    "}"
   ]
  },
  {
   "cell_type": "code",
   "execution_count": 13,
   "metadata": {},
   "outputs": [],
   "source": [
    "old2new_names = {v: k for k, v in new2old_names.items()}"
   ]
  },
  {
   "cell_type": "code",
   "execution_count": 14,
   "metadata": {},
   "outputs": [],
   "source": [
    "df_period1.rename(old2new_names,axis=1, inplace=True)"
   ]
  },
  {
   "cell_type": "code",
   "execution_count": 15,
   "metadata": {},
   "outputs": [
    {
     "name": "stdout",
     "output_type": "stream",
     "text": [
      "# Variables 2014-2018:  66\n"
     ]
    }
   ],
   "source": [
    "period_total = period_2.intersection(df_period1.columns)\n",
    "print('# Variables 2014-2018: ', len(period_total))"
   ]
  },
  {
   "cell_type": "code",
   "execution_count": null,
   "metadata": {
    "scrolled": false
   },
   "outputs": [],
   "source": [
    "df_period1.reset_index(inplace=True)\n",
    "df_period1[['tipo-centro_asist','año','periodo']] = df_period1['index'].str.split(pat=r' _per_|-', expand=True)\n",
    "df_period1[['tipo','centro_asist']] = df_period1['tipo-centro_asist'].str.split(pat=' ', n=1, expand=True)\n",
    "df_period1.drop(labels=['index','tipo-centro_asist'], axis=1, inplace=True)"
   ]
  },
  {
   "cell_type": "code",
   "execution_count": 17,
   "metadata": {},
   "outputs": [],
   "source": [
    "temp = df_period1.reset_index()"
   ]
  },
  {
   "cell_type": "code",
   "execution_count": 18,
   "metadata": {},
   "outputs": [],
   "source": [
    "series = temp['index']"
   ]
  },
  {
   "cell_type": "code",
   "execution_count": 20,
   "metadata": {},
   "outputs": [],
   "source": [
    "df_3vars = series.str.split(pat=r' _per_|-', expand=True)"
   ]
  },
  {
   "cell_type": "code",
   "execution_count": 27,
   "metadata": {},
   "outputs": [],
   "source": [
    "centr_tip = df_3vars[0]"
   ]
  },
  {
   "cell_type": "code",
   "execution_count": 28,
   "metadata": {},
   "outputs": [
    {
     "data": {
      "text/plain": [
       "0           C.E. CENTRO NACIONAL DE SALUD RENAL\n",
       "1           C.E. CENTRO NACIONAL DE SALUD RENAL\n",
       "2           C.E. CENTRO NACIONAL DE SALUD RENAL\n",
       "3           C.E. CENTRO NACIONAL DE SALUD RENAL\n",
       "4           C.E. CENTRO NACIONAL DE SALUD RENAL\n",
       "5           C.E. CENTRO NACIONAL DE SALUD RENAL\n",
       "6           C.E. CENTRO NACIONAL DE SALUD RENAL\n",
       "7           C.E. CENTRO NACIONAL DE SALUD RENAL\n",
       "8           C.E. CENTRO NACIONAL DE SALUD RENAL\n",
       "9           C.E. CENTRO NACIONAL DE SALUD RENAL\n",
       "10          C.E. CENTRO NACIONAL DE SALUD RENAL\n",
       "11          C.E. CENTRO NACIONAL DE SALUD RENAL\n",
       "12          C.E. CENTRO NACIONAL DE SALUD RENAL\n",
       "13       C.E. INSTITUTO NACIONAL CARDIOVASCULAR\n",
       "14       C.E. INSTITUTO NACIONAL CARDIOVASCULAR\n",
       "15       C.E. INSTITUTO NACIONAL CARDIOVASCULAR\n",
       "16       C.E. INSTITUTO NACIONAL CARDIOVASCULAR\n",
       "17       C.E. INSTITUTO NACIONAL CARDIOVASCULAR\n",
       "18       C.E. INSTITUTO NACIONAL CARDIOVASCULAR\n",
       "19       C.E. INSTITUTO NACIONAL CARDIOVASCULAR\n",
       "20       C.E. INSTITUTO NACIONAL CARDIOVASCULAR\n",
       "21       C.E. INSTITUTO NACIONAL CARDIOVASCULAR\n",
       "22       C.E. INSTITUTO NACIONAL CARDIOVASCULAR\n",
       "23       C.E. INSTITUTO NACIONAL CARDIOVASCULAR\n",
       "24       C.E. INSTITUTO NACIONAL CARDIOVASCULAR\n",
       "25       C.E. INSTITUTO NACIONAL CARDIOVASCULAR\n",
       "26       C.E. INSTITUTO PERUANO DE OFTALMOLOGIA\n",
       "27       C.E. INSTITUTO PERUANO DE OFTALMOLOGIA\n",
       "28       C.E. INSTITUTO PERUANO DE OFTALMOLOGIA\n",
       "29       C.E. INSTITUTO PERUANO DE OFTALMOLOGIA\n",
       "                          ...                  \n",
       "15713                          POL. VILLA MARIA\n",
       "15714                          POL. VILLA MARIA\n",
       "15715                          POL. VILLA MARIA\n",
       "15716                          POL. VILLA MARIA\n",
       "15717                           UBAP LOS OLIVOS\n",
       "15718                           UBAP LOS OLIVOS\n",
       "15719                           UBAP LOS OLIVOS\n",
       "15720                           UBAP LOS OLIVOS\n",
       "15721                           UBAP LOS OLIVOS\n",
       "15722                           UBAP LOS OLIVOS\n",
       "15723                           UBAP LOS OLIVOS\n",
       "15724                           UBAP LOS OLIVOS\n",
       "15725                           UBAP LOS OLIVOS\n",
       "15726                           UBAP LOS OLIVOS\n",
       "15727                           UBAP LOS OLIVOS\n",
       "15728                           UBAP LOS OLIVOS\n",
       "15729                           UBAP LOS OLIVOS\n",
       "15730                              UBAP MANCHAY\n",
       "15731                              UBAP MANCHAY\n",
       "15732                              UBAP MANCHAY\n",
       "15733                              UBAP MANCHAY\n",
       "15734                              UBAP MANCHAY\n",
       "15735                              UBAP MANCHAY\n",
       "15736                              UBAP MANCHAY\n",
       "15737                              UBAP MANCHAY\n",
       "15738                              UBAP MANCHAY\n",
       "15739                              UBAP MANCHAY\n",
       "15740                              UBAP MANCHAY\n",
       "15741                              UBAP MANCHAY\n",
       "15742                              UBAP MANCHAY\n",
       "Name: 0, Length: 15743, dtype: object"
      ]
     },
     "execution_count": 28,
     "metadata": {},
     "output_type": "execute_result"
    }
   ],
   "source": [
    "centr_tip"
   ]
  },
  {
   "cell_type": "code",
   "execution_count": 26,
   "metadata": {},
   "outputs": [
    {
     "data": {
      "text/plain": [
       "array(['C.E.', 'C.M.', '', 'H.I', 'H.II', 'H.III', 'H.IV', 'H.N.', 'P.M.',\n",
       "       'POL.', 'UBAP', 'GER.RED', 'ORG.PREST.NAC.'], dtype=object)"
      ]
     },
     "execution_count": 26,
     "metadata": {},
     "output_type": "execute_result"
    }
   ],
   "source": [
    "centr_tip.replace(' |(CAP I+)', n=1, expand=True)[0].unique()"
   ]
  },
  {
   "cell_type": "code",
   "execution_count": null,
   "metadata": {},
   "outputs": [],
   "source": []
  },
  {
   "cell_type": "code",
   "execution_count": null,
   "metadata": {},
   "outputs": [],
   "source": []
  },
  {
   "cell_type": "code",
   "execution_count": null,
   "metadata": {},
   "outputs": [],
   "source": []
  },
  {
   "cell_type": "code",
   "execution_count": null,
   "metadata": {},
   "outputs": [],
   "source": [
    "df_period1['tipo'].unique()"
   ]
  },
  {
   "cell_type": "code",
   "execution_count": null,
   "metadata": {},
   "outputs": [],
   "source": [
    "df_period2.reset_index(inplace=True)\n",
    "df_period2[['tipo-centro_asist','año-periodo']] = df_period2['index'].str.split(pat=r'_per_', expand=True)\n",
    "df_period2[['año','periodo']] = df_period2['año-periodo'].str.split(pat=r'-', expand=True)\n",
    "df_period2[['tipo','centro_asist']] = df_period2['tipo-centro_asist'].str.split(pat=' ', n=1, expand=True)\n",
    "df_period2.drop(labels=['index','año-periodo','tipo-centro_asist'], axis=1, inplace=True)"
   ]
  },
  {
   "cell_type": "code",
   "execution_count": null,
   "metadata": {},
   "outputs": [],
   "source": [
    "df_period2['tipo'].unique()"
   ]
  },
  {
   "cell_type": "code",
   "execution_count": null,
   "metadata": {},
   "outputs": [],
   "source": [
    "vars_1 = ['tipo','centro_asist','año','periodo']+period_total.tolist()\n",
    "vars_2 = ['tipo','centro_asist','año','periodo']+period_total.tolist()"
   ]
  },
  {
   "cell_type": "code",
   "execution_count": null,
   "metadata": {},
   "outputs": [],
   "source": [
    "df_final = df_period1[vars_1].append(df_period2[vars_2])"
   ]
  },
  {
   "cell_type": "code",
   "execution_count": null,
   "metadata": {},
   "outputs": [],
   "source": [
    "df_final.describe(include='float')"
   ]
  },
  {
   "cell_type": "code",
   "execution_count": null,
   "metadata": {},
   "outputs": [],
   "source": [
    "df_final.describe(include='object')"
   ]
  },
  {
   "cell_type": "code",
   "execution_count": null,
   "metadata": {},
   "outputs": [],
   "source": [
    "profile = pd_profiling.ProfileReport(df_final)"
   ]
  },
  {
   "cell_type": "code",
   "execution_count": null,
   "metadata": {},
   "outputs": [],
   "source": [
    "profile.to_file('hospitales_profile.html')"
   ]
  },
  {
   "cell_type": "code",
   "execution_count": null,
   "metadata": {},
   "outputs": [],
   "source": [
    "df_mensual = df_final[df_final['periodo'] != 'TOTAL']"
   ]
  },
  {
   "cell_type": "code",
   "execution_count": null,
   "metadata": {},
   "outputs": [],
   "source": [
    "df_mensual.groupby(['centro_asist','año']).sum()"
   ]
  },
  {
   "cell_type": "code",
   "execution_count": null,
   "metadata": {
    "scrolled": false
   },
   "outputs": [],
   "source": [
    "df_mensual['centro_asist'].unique()"
   ]
  },
  {
   "cell_type": "code",
   "execution_count": null,
   "metadata": {},
   "outputs": [],
   "source": []
  }
 ],
 "metadata": {
  "kernelspec": {
   "display_name": "Python 3 (ch_env)",
   "language": "python",
   "name": "clusters_hospital_env"
  },
  "language_info": {
   "codemirror_mode": {
    "name": "ipython",
    "version": 3
   },
   "file_extension": ".py",
   "mimetype": "text/x-python",
   "name": "python",
   "nbconvert_exporter": "python",
   "pygments_lexer": "ipython3",
   "version": "3.6.6"
  }
 },
 "nbformat": 4,
 "nbformat_minor": 2
}
